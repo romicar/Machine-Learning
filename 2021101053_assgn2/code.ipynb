{
 "cells": [
  {
   "attachments": {},
   "cell_type": "markdown",
   "metadata": {},
   "source": [
    "`TASK 2:`"
   ]
  },
  {
   "attachments": {},
   "cell_type": "markdown",
   "metadata": {},
   "source": [
    "Import all the necessary libraries"
   ]
  },
  {
   "cell_type": "code",
   "execution_count": 6,
   "metadata": {},
   "outputs": [],
   "source": [
    "import pickle\n",
    "import pandas as pd\n",
    "import numpy as np\n",
    "import matplotlib.pyplot as plt\n",
    "from sklearn.linear_model import LinearRegression\n",
    "from sklearn.preprocessing import PolynomialFeatures\n",
    "from tabulate import tabulate"
   ]
  },
  {
   "attachments": {},
   "cell_type": "markdown",
   "metadata": {},
   "source": [
    "Load the training data into \"trainingdata\" (this stores all 800 datapoints)"
   ]
  },
  {
   "cell_type": "code",
   "execution_count": 7,
   "metadata": {},
   "outputs": [],
   "source": [
    "with open('train_dataset.pickle', 'rb') as thisdata:\n",
    "    trainingdata = pickle.load(thisdata)\n",
    "\n",
    "    numberofTrainingData=len(trainingdata)\n",
    "    # print(numberofTrainingData)"
   ]
  },
  {
   "attachments": {},
   "cell_type": "markdown",
   "metadata": {},
   "source": [
    "Plotting the training data which is Performance Score vs Risk Score"
   ]
  },
  {
   "cell_type": "code",
   "execution_count": 8,
   "metadata": {},
   "outputs": [
    {
     "data": {
      "image/png": "[encoded data removed]",
      "text/plain": [
       "<Figure size 432x288 with 1 Axes>"
      ]
     },
     "metadata": {
      "needs_background": "light"
     },
     "output_type": "display_data"
    }
   ],
   "source": [
    "# Extract x and y values from trainingdata\n",
    "x = [data[0] for data in trainingdata]\n",
    "y = [data[1] for data in trainingdata]\n",
    "\n",
    "# Create scatter plot\n",
    "plt.scatter(x, y, color='orange')\n",
    "plt.xlabel('Performance Score')\n",
    "plt.ylabel('Risk Score')\n",
    "plt.title('Training Set Graph')\n",
    "plt.show()"
   ]
  },
  {
   "attachments": {},
   "cell_type": "markdown",
   "metadata": {},
   "source": [
    "Load the testing data into \"testingdata\" (this stores all 200 datapoints)"
   ]
  },
  {
   "cell_type": "code",
   "execution_count": 9,
   "metadata": {},
   "outputs": [],
   "source": [
    "with open('test_dataset.pickle', 'rb') as thisdata:\n",
    "    testingdata = pickle.load(thisdata)\n",
    "\n",
    "    numberofTestingData=len(testingdata)\n",
    "    # print(numberofTestingData)"
   ]
  },
  {
   "attachments": {},
   "cell_type": "markdown",
   "metadata": {},
   "source": [
    "Plotting the testing data which is Performance Score vs Risk Score"
   ]
  },
  {
   "cell_type": "code",
   "execution_count": 10,
   "metadata": {},
   "outputs": [
    {
     "data": {
      "image/png": "[encoded data removed]",
      "text/plain": [
       "<Figure size 432x288 with 1 Axes>"
      ]
     },
     "metadata": {
      "needs_background": "light"
     },
     "output_type": "display_data"
    }
   ],
   "source": [
    "# Extract x and y values from testingdata\n",
    "x = [data[0] for data in testingdata]\n",
    "y = [data[1] for data in testingdata]\n",
    "\n",
    "# Create scatter plot\n",
    "plt.scatter(x, y, color='blue')\n",
    "plt.xlabel('Performance Score')\n",
    "plt.ylabel('Risk Score')\n",
    "plt.title('Testing Set Graph')\n",
    "plt.show()"
   ]
  },
  {
   "attachments": {},
   "cell_type": "markdown",
   "metadata": {},
   "source": [
    "`(Task 2.3.1) Re-Sampling data`"
   ]
  },
  {
   "attachments": {},
   "cell_type": "markdown",
   "metadata": {},
   "source": [
    "Dividing the train set into 20 equal parts randomly, so that we get 20 different train datasets to train our model"
   ]
  },
  {
   "cell_type": "code",
   "execution_count": 11,
   "metadata": {},
   "outputs": [],
   "source": [
    "numberOfTrainingParts=20\n",
    "numberOfDegrees=15\n",
    "\n",
    "numberOfPointsInEachTrainingPart=len(trainingdata)/numberOfTrainingParts\n",
    "# print(numberOfPointsInEachTrainingPart)\n",
    "\n",
    "np.random.shuffle(trainingdata)\n",
    "training_sets = np.array_split(trainingdata, numberOfTrainingParts)"
   ]
  },
  {
   "cell_type": "code",
   "execution_count": 12,
   "metadata": {},
   "outputs": [
    {
     "name": "stdout",
     "output_type": "stream",
     "text": [
      "    Degree  Average Bias  Average Variance  Mean Squared Error  \\\n",
      "0        1      0.269322          0.008578            0.123053   \n",
      "1        2      0.086814          0.000670            0.012763   \n",
      "2        3      0.033313          0.000348            0.005046   \n",
      "3        4      0.025727          0.000379            0.004659   \n",
      "4        5      0.024765          0.000511            0.004733   \n",
      "5        6      0.025162          0.000950            0.005187   \n",
      "6        7      0.024564          0.000892            0.005143   \n",
      "7        8      0.025346          0.001951            0.006257   \n",
      "8        9      0.027186          0.003666            0.008077   \n",
      "9       10      0.028450          0.005180            0.009616   \n",
      "10      11      0.060141          0.196997            0.211351   \n",
      "11      12      0.146380          2.197083            2.323908   \n",
      "12      13      0.222026          6.035006            6.366367   \n",
      "13      14      0.072738          0.359475            0.384647   \n",
      "14      15      0.238560          7.594885            7.995470   \n",
      "\n",
      "    Irreducible Error  \n",
      "0        2.043287e-17  \n",
      "1       -5.151858e-18  \n",
      "2       -8.185726e-20  \n",
      "3        5.049401e-18  \n",
      "4       -3.317659e-19  \n",
      "5       -1.022050e-17  \n",
      "6       -2.601679e-18  \n",
      "7       -8.092214e-19  \n",
      "8       -5.183164e-18  \n",
      "9       -3.348965e-18  \n",
      "10       1.865485e-17  \n",
      "11      -1.273063e-16  \n",
      "12       5.322477e-17  \n",
      "13       6.081046e-17  \n",
      "14       2.122830e-16  \n"
     ]
    },
    {
     "data": {
      "image/png": "[encoded data removed]",
      "text/plain": [
       "<Figure size 432x288 with 1 Axes>"
      ]
     },
     "metadata": {
      "needs_background": "light"
     },
     "output_type": "display_data"
    },
    {
     "name": "stdout",
     "output_type": "stream",
     "text": [
      "The degree with the lowest mean squared error is 4.0\n"
     ]
    }
   ],
   "source": [
    "average_bias = []\n",
    "average_variance = []\n",
    "average_squarebias = []\n",
    "mean_squared_error = []\n",
    "irreducible_error = []\n",
    "\n",
    "# Loop over all degrees of polynomial\n",
    "for i in range(1, numberOfDegrees + 1):\n",
    "    store_everything = [[0 for j in range(200)] for i in range(20)]\n",
    "    mean_everything =  []\n",
    "    degree_models = []\n",
    "\n",
    "    # Initialize empty lists to store bias and variance for each model\n",
    "    bias = []\n",
    "    variance = []\n",
    "    squared_bias = []\n",
    "    for j in range(numberOfTrainingParts):\n",
    "\n",
    "        training_X = training_sets[j][:, 0].reshape(-1, 1)\n",
    "        training_Y = training_sets[j][:, 1]\n",
    "        polynomial_features = PolynomialFeatures(i)\n",
    "        polynomial_X = polynomial_features.fit_transform(training_X)\n",
    "        model = LinearRegression().fit(polynomial_X, training_Y)\n",
    "        degree_models.append(model)\n",
    "        testing_X = testingdata[:, 0].reshape(-1, 1)\n",
    "        testing_X_poly = polynomial_features.fit_transform(testing_X)\n",
    "        predictions = model.predict(testing_X_poly)\n",
    "        store_everything[j] += predictions \n",
    "\n",
    "\n",
    "    testing_Y = testingdata[:, 1]\n",
    "    # now first to calulate bias \n",
    "    for j in range(200):\n",
    "        sum = 0\n",
    "        for k in range(20):\n",
    "            sum += store_everything[k][j]\n",
    "        sum/=20\n",
    "        mean_everything.append(sum)\n",
    "    cur_bias = []\n",
    "    for j in range(200):\n",
    "        cur_bias.append(np.abs(mean_everything[j]-testing_Y[j]))\n",
    "    average_bias.append(np.mean(cur_bias))\n",
    "\n",
    "    # now to calculate average variance \n",
    "    cur_var = []\n",
    "    for j in range(200):\n",
    "        temp_var = []\n",
    "        for k in range(20):\n",
    "            temp_var.append(store_everything[k][j])\n",
    "        cur_var.append(np.var(temp_var))\n",
    "    average_variance.append(np.mean(cur_var))\n",
    "\n",
    "    # now to calculate the squared bias \n",
    "    cur_sqbias = []\n",
    "    for j in range(200):\n",
    "        cur_sqbias.append(np.square(cur_bias[j]))\n",
    "    average_squarebias.append(np.mean(cur_sqbias))\n",
    "\n",
    "    # now onto mse \n",
    "    cur_mse = []\n",
    "    for j in range(200):\n",
    "        sum = 0\n",
    "        for k in range(20):\n",
    "            sum += np.square(store_everything[k][j]-testing_Y[j])\n",
    "        sum/=20\n",
    "        cur_mse.append(sum)\n",
    "    mean_squared_error.append(np.mean(cur_mse))\n",
    "\n",
    "\n",
    "    cur_irr = []\n",
    "    for j in range(200):\n",
    "        cur_irr.append(cur_mse[j]- cur_sqbias[j] - cur_var[j])\n",
    "    irreducible_error.append(np.mean(cur_irr))\n",
    "    \n",
    "\n",
    "\n",
    "mytable = pd.DataFrame({\n",
    "    'Degree': list(range(1, 16)),\n",
    "    'Average Bias': average_bias,\n",
    "    'Average Variance': average_variance,\n",
    "    'Mean Squared Error': mean_squared_error,\n",
    "    'Irreducible Error': irreducible_error\n",
    "})\n",
    "print(mytable)\n",
    "\n",
    "\n",
    "degrees = mytable['Degree']\n",
    "\n",
    "mse = mytable['Mean Squared Error']\n",
    "\n",
    "plt.scatter(degrees, mse)\n",
    "\n",
    "plt.xlabel('Degree')\n",
    "plt.ylabel('Mean Squared Error')\n",
    "plt.title('Mean Squared Error vs Degree')\n",
    "plt.show()\n",
    "\n",
    "min_row = mytable.loc[mytable['Mean Squared Error'].idxmin()]\n",
    "\n",
    "best_degree = min_row['Degree']\n",
    "\n",
    "print(f\"The degree with the lowest mean squared error is {best_degree}\")"
   ]
  }
 ],
 "metadata": {
  "kernelspec": {
   "display_name": "Python 3",
   "language": "python",
   "name": "python3"
  },
  "language_info": {
   "codemirror_mode": {
    "name": "ipython",
    "version": 3
   },
   "file_extension": ".py",
   "mimetype": "text/x-python",
   "name": "python",
   "nbconvert_exporter": "python",
   "pygments_lexer": "ipython3",
   "version": "3.10.6"
  },
  "orig_nbformat": 4,
  "vscode": {
   "interpreter": {
    "hash": "e7370f93d1d0cde622a1f8e1c04877d8463912d04d973331ad4851f04de6915a"
   }
  }
 },
 "nbformat": 4,
 "nbformat_minor": 2
}
