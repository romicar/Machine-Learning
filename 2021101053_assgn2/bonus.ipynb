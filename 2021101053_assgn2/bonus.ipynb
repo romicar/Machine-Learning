{
 "cells": [
  {
   "attachments": {},
   "cell_type": "markdown",
   "metadata": {},
   "source": [
    "`3 BONUS`"
   ]
  },
  {
   "attachments": {},
   "cell_type": "markdown",
   "metadata": {},
   "source": [
    "Import all the necessary libraries"
   ]
  },
  {
   "cell_type": "code",
   "execution_count": 10,
   "metadata": {},
   "outputs": [],
   "source": [
    "import pickle\n",
    "import math\n",
    "import numpy as np\n",
    "import matplotlib.pyplot as plt\n",
    "from sklearn.linear_model import LinearRegression"
   ]
  },
  {
   "attachments": {},
   "cell_type": "markdown",
   "metadata": {},
   "source": [
    "Load the input data file into 'mydata'"
   ]
  },
  {
   "cell_type": "code",
   "execution_count": 11,
   "metadata": {},
   "outputs": [],
   "source": [
    "with open('capacitor_dataset.pickle', 'rb') as thisdata:\n",
    "    mydata = pickle.load(thisdata)\n",
    "\n",
    "numberofelements=len(mydata) # there are 1000 datapoints containing pairs (x,y)\n",
    "# x: time\n",
    "# y: value of charge"
   ]
  },
  {
   "attachments": {},
   "cell_type": "markdown",
   "metadata": {},
   "source": [
    "Store the pair values of time and charge into two lists 'time-values' and 'charge_values' respectively"
   ]
  },
  {
   "cell_type": "code",
   "execution_count": 12,
   "metadata": {},
   "outputs": [],
   "source": [
    "time_values = [pair[0] for pair in mydata]\n",
    "charge_values = [pair[1] for pair in mydata]"
   ]
  },
  {
   "attachments": {},
   "cell_type": "markdown",
   "metadata": {},
   "source": [
    "Plot a graph showing the relationship between Time vs Charge"
   ]
  },
  {
   "cell_type": "code",
   "execution_count": 13,
   "metadata": {},
   "outputs": [
    {
     "data": {
      "image/png": "[encoded data removed]",
      "text/plain": [
       "<Figure size 432x288 with 1 Axes>"
      ]
     },
     "metadata": {
      "needs_background": "light"
     },
     "output_type": "display_data"
    }
   ],
   "source": [
    "\n",
    "plt.plot(time_values, charge_values)\n",
    "plt.xlabel('Time (in seconds)')\n",
    "plt.ylabel('Charge (in Coloumb)')\n",
    "plt.title('Discharging of Capacitor with Time')\n",
    "plt.show()"
   ]
  },
  {
   "attachments": {},
   "cell_type": "markdown",
   "metadata": {},
   "source": [
    "Since, the function is exponential one, we cannot directly perform linear regression. Hence, we first take logarithm on both sides to convert the given equation in the form of y=mx+c"
   ]
  },
  {
   "cell_type": "code",
   "execution_count": 14,
   "metadata": {},
   "outputs": [],
   "source": [
    "# Q=CVe^(-t/RC)\n",
    "# Q/V=Ce^(-t/RC)\n",
    "# ln(Q/V) = -t/RC + lnC\n",
    "# y = mx+c\n",
    "# y=ln(Q/5) => dependent variable\n",
    "# x = t, m = -1/RC, c = lnC\n",
    "\n",
    "dependent_variable = [math.log(charge/5) for charge in charge_values]\n",
    "mypairs = zip(time_values,charge_values)\n",
    "independent_variable = [time for time in time_values]"
   ]
  },
  {
   "attachments": {},
   "cell_type": "markdown",
   "metadata": {},
   "source": [
    "`Performing linear regression:`\n",
    "\n",
    "This requires first converting the lists of 'dependent_variable' and 'independent_variable' into numpy arrays and then using reshape(-1,1) so that it has one column and as many rows as there are elements in the array. \n",
    "This is necessary because the 'fit()' method of 'LinearRegression' class expects a 2D array as input.\n",
    "\n",
    "'model' is an instance of 'LinearRegression' class which fits a linear regression model to the data. The 'model' object contains the estimated coefficients and other information about the fitted model. "
   ]
  },
  {
   "cell_type": "code",
   "execution_count": 15,
   "metadata": {},
   "outputs": [],
   "source": [
    "x = np.array(independent_variable).reshape(-1, 1)\n",
    "y = np.array(dependent_variable).reshape(-1,1)\n",
    "model = LinearRegression().fit(x, y) \n",
    "# The fit() method estimates the coefficients of the linear regression model using the input data, using the least squares method. "
   ]
  },
  {
   "attachments": {},
   "cell_type": "markdown",
   "metadata": {},
   "source": [
    "Extracting the values of 'slope' and 'intercept' from the fitted regression model.\n",
    "\n",
    "'coef_ ' attribute of a trained 'LinearRegression' model returns a 2D array and gives the coefficients of the linear regression model.\n",
    "\n",
    "'intercept_' attribute of a trained 'LinearRegression' model returns a 1D array and  gives the intercept of the linear regression model"
   ]
  },
  {
   "cell_type": "code",
   "execution_count": 16,
   "metadata": {},
   "outputs": [],
   "source": [
    "slope = model.coef_[0][0]          # slope = -1/RC\n",
    "intercept = model.intercept_[0]    # intercept = lnC"
   ]
  },
  {
   "attachments": {},
   "cell_type": "markdown",
   "metadata": {},
   "source": [
    "Calculating the values of Capacitance(in Farad) and Resistance(in ohms) by the slope and intercept calculated above"
   ]
  },
  {
   "cell_type": "code",
   "execution_count": 17,
   "metadata": {},
   "outputs": [],
   "source": [
    "Capacitance = math.exp(intercept) \n",
    "# intercept = lnC\n",
    "# => C = e^(intercept)\n",
    "Resistance= -1 / (Capacitance*slope)\n",
    "# slope = -1/RC\n",
    "# => R = -1/(C*slope)"
   ]
  },
  {
   "attachments": {},
   "cell_type": "markdown",
   "metadata": {},
   "source": [
    "Displaying the values of Capacitance and Resistance"
   ]
  },
  {
   "cell_type": "code",
   "execution_count": 18,
   "metadata": {},
   "outputs": [
    {
     "name": "stdout",
     "output_type": "stream",
     "text": [
      "Capacitance = 4.9999999999997556e-05 Farad\n",
      "Resistance = 100000.00000000493 ohms\n"
     ]
    }
   ],
   "source": [
    "print(\"Capacitance =\", Capacitance, \"Farad\")\n",
    "print(\"Resistance =\", Resistance, \"ohms\")"
   ]
  }
 ],
 "metadata": {
  "kernelspec": {
   "display_name": "Python 3",
   "language": "python",
   "name": "python3"
  },
  "language_info": {
   "codemirror_mode": {
    "name": "ipython",
    "version": 3
   },
   "file_extension": ".py",
   "mimetype": "text/x-python",
   "name": "python",
   "nbconvert_exporter": "python",
   "pygments_lexer": "ipython3",
   "version": "3.10.6"
  },
  "orig_nbformat": 4,
  "vscode": {
   "interpreter": {
    "hash": "e7370f93d1d0cde622a1f8e1c04877d8463912d04d973331ad4851f04de6915a"
   }
  }
 },
 "nbformat": 4,
 "nbformat_minor": 2
}
